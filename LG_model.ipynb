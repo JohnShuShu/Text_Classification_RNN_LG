{
 "cells": [
  {
   "cell_type": "markdown",
   "metadata": {},
   "source": [
    "# Author: Wen Cui, Vrindavan Harrison"
   ]
  },
  {
   "cell_type": "markdown",
   "metadata": {},
   "source": [
    "# 1. Read input and extract features\n",
    "We process the text by lowercase and removing punctuation and converted to feature matrix with occurancy in the text.\n",
    "And then we apply tfidf transform."
   ]
  },
  {
   "cell_type": "markdown",
   "metadata": {},
   "source": [
    "# 1.1 Our input"
   ]
  },
  {
   "cell_type": "code",
   "execution_count": 1,
   "metadata": {
    "collapsed": false
   },
   "outputs": [
    {
     "data": {
      "text/html": [
       "<div>\n",
       "<table border=\"1\" class=\"dataframe\">\n",
       "  <thead>\n",
       "    <tr style=\"text-align: right;\">\n",
       "      <th></th>\n",
       "      <th>handle</th>\n",
       "      <th>tweet</th>\n",
       "    </tr>\n",
       "  </thead>\n",
       "  <tbody>\n",
       "    <tr>\n",
       "      <th>0</th>\n",
       "      <td>HillaryClinton</td>\n",
       "      <td>The question in this election: Who can put the...</td>\n",
       "    </tr>\n",
       "    <tr>\n",
       "      <th>1</th>\n",
       "      <td>HillaryClinton</td>\n",
       "      <td>Last night, Donald Trump said not paying taxes...</td>\n",
       "    </tr>\n",
       "    <tr>\n",
       "      <th>2</th>\n",
       "      <td>HillaryClinton</td>\n",
       "      <td>If we stand together, there's nothing we can't...</td>\n",
       "    </tr>\n",
       "    <tr>\n",
       "      <th>3</th>\n",
       "      <td>HillaryClinton</td>\n",
       "      <td>Both candidates were asked about how they'd co...</td>\n",
       "    </tr>\n",
       "    <tr>\n",
       "      <th>4</th>\n",
       "      <td>realDonaldTrump</td>\n",
       "      <td>Join me for a 3pm rally - tomorrow at the Mid-...</td>\n",
       "    </tr>\n",
       "  </tbody>\n",
       "</table>\n",
       "</div>"
      ],
      "text/plain": [
       "            handle                                              tweet\n",
       "0   HillaryClinton  The question in this election: Who can put the...\n",
       "1   HillaryClinton  Last night, Donald Trump said not paying taxes...\n",
       "2   HillaryClinton  If we stand together, there's nothing we can't...\n",
       "3   HillaryClinton  Both candidates were asked about how they'd co...\n",
       "4  realDonaldTrump  Join me for a 3pm rally - tomorrow at the Mid-..."
      ]
     },
     "execution_count": 1,
     "metadata": {},
     "output_type": "execute_result"
    }
   ],
   "source": [
    "import pandas as pd\n",
    "df = pd.read_csv('./train.csv', encoding='utf-8')\n",
    "df.head()"
   ]
  },
  {
   "cell_type": "markdown",
   "metadata": {},
   "source": [
    "# 1.2 Feature matrix with count of words\n",
    "Convert text into feature matrix with each row is a line, and each row if the count of the words in the message\n",
    "<br> 1=HillaryClinton, 0=realDonaldTrump"
   ]
  },
  {
   "cell_type": "code",
   "execution_count": 6,
   "metadata": {
    "collapsed": false,
    "scrolled": true
   },
   "outputs": [],
   "source": [
    "from sklearn.feature_extraction.text import CountVectorizer\n",
    "from sklearn.feature_extraction.text import TfidfTransformer\n",
    "import numpy as np\n",
    "from sklearn.model_selection import KFold\n",
    "\n",
    "\n",
    "def feature_matrix(file_name, vectorizer=None):\n",
    "    df = pd.read_csv(file_name, encoding='utf-8')\n",
    "    texts = []\n",
    "    y = []\n",
    "    for i in range(0, len(df.index)):\n",
    "        if df.ix[i, 'handle'] == 'HillaryClinton':\n",
    "            y.append(1)\n",
    "        elif df.ix[i, 'handle'] == 'realDonaldTrump':     \n",
    "            y.append(0)\n",
    "        texts.append(df.ix[i, 'tweet'])\n",
    "    X, vec = extract_feature(texts, vectorizer)\n",
    "    y = np.array(y).T\n",
    "    print(\"X matrix shape is {0}\".format(X.shape))\n",
    "    print(\"y vector shape is {0}\".format(y.shape))\n",
    "    print(\"HillaryClinton's length is {0} and realDonaldTrump's length is {1}\".format(sum(y), len(y)-sum(y)))\n",
    "    return X, y, vec\n",
    "                      \n",
    "\n",
    "def extract_feature(texts, vectorizer=None):\n",
    "    # TODO: regex for remove only punct\n",
    "    if vectorizer is None:\n",
    "        vectorizer = CountVectorizer(decode_error='ignore',stop_words='english', min_df=2)\n",
    "        X = vectorizer.fit_transform(texts).toarray()\n",
    "    else:\n",
    "        X = vectorizer.transform(texts).toarray()\n",
    "        \n",
    "    return X, vectorizer"
   ]
  },
  {
   "cell_type": "markdown",
   "metadata": {},
   "source": [
    "# 1.3 Tfidf transform\n",
    "Tfidf with l2 normalization"
   ]
  },
  {
   "cell_type": "code",
   "execution_count": 7,
   "metadata": {
    "collapsed": false
   },
   "outputs": [],
   "source": [
    "def tfidf_transform(counts):\n",
    "    transformer = TfidfTransformer(norm='l2',smooth_idf=False)\n",
    "    tfidf = transformer.fit_transform(counts).toarray()\n",
    "    return tfidf"
   ]
  },
  {
   "cell_type": "markdown",
   "metadata": {},
   "source": [
    "# 1.4 All together\n",
    "Now we can process training dataset. We can see the data in the training set are very inbalance since there are only $13.9\\%$ of the data is labeled as spam."
   ]
  },
  {
   "cell_type": "code",
   "execution_count": 8,
   "metadata": {
    "collapsed": false
   },
   "outputs": [
    {
     "name": "stdout",
     "output_type": "stream",
     "text": [
      "in train.csv data:\n",
      "X matrix shape is (4743, 3680)\n",
      "y vector shape is (4743,)\n",
      "HillaryClinton's length is 2362 and realDonaldTrump's length is 2381\n"
     ]
    }
   ],
   "source": [
    "def process_text(filename, vector=None):\n",
    "    X, y, vec= feature_matrix(filename, vector) \n",
    "    X = tfidf_transform(X)\n",
    "    return X, y, vec \n",
    "\n",
    "print(\"in train.csv data:\")  \n",
    "X, y, vectorizer = process_text('./train.csv')"
   ]
  },
  {
   "cell_type": "markdown",
   "metadata": {},
   "source": [
    "Let's look at the feature matrix and label vector we produced above, it's sparse and contains lots of 0"
   ]
  },
  {
   "cell_type": "code",
   "execution_count": 9,
   "metadata": {
    "collapsed": false
   },
   "outputs": [
    {
     "data": {
      "text/html": [
       "<div>\n",
       "<table border=\"1\" class=\"dataframe\">\n",
       "  <thead>\n",
       "    <tr style=\"text-align: right;\">\n",
       "      <th></th>\n",
       "      <th>0</th>\n",
       "      <th>1</th>\n",
       "      <th>2</th>\n",
       "      <th>3</th>\n",
       "      <th>4</th>\n",
       "      <th>5</th>\n",
       "      <th>6</th>\n",
       "      <th>7</th>\n",
       "      <th>8</th>\n",
       "      <th>9</th>\n",
       "      <th>...</th>\n",
       "      <th>3670</th>\n",
       "      <th>3671</th>\n",
       "      <th>3672</th>\n",
       "      <th>3673</th>\n",
       "      <th>3674</th>\n",
       "      <th>3675</th>\n",
       "      <th>3676</th>\n",
       "      <th>3677</th>\n",
       "      <th>3678</th>\n",
       "      <th>3679</th>\n",
       "    </tr>\n",
       "  </thead>\n",
       "  <tbody>\n",
       "    <tr>\n",
       "      <th>0</th>\n",
       "      <td>0.0</td>\n",
       "      <td>0.0</td>\n",
       "      <td>0.0</td>\n",
       "      <td>0.0</td>\n",
       "      <td>0.0</td>\n",
       "      <td>0.0</td>\n",
       "      <td>0.0</td>\n",
       "      <td>0.0</td>\n",
       "      <td>0.0</td>\n",
       "      <td>0.0</td>\n",
       "      <td>...</td>\n",
       "      <td>0.0</td>\n",
       "      <td>0.0</td>\n",
       "      <td>0.0</td>\n",
       "      <td>0.0</td>\n",
       "      <td>0.0</td>\n",
       "      <td>0.0</td>\n",
       "      <td>0.0</td>\n",
       "      <td>0.0</td>\n",
       "      <td>0.0</td>\n",
       "      <td>0.0</td>\n",
       "    </tr>\n",
       "    <tr>\n",
       "      <th>1</th>\n",
       "      <td>0.0</td>\n",
       "      <td>0.0</td>\n",
       "      <td>0.0</td>\n",
       "      <td>0.0</td>\n",
       "      <td>0.0</td>\n",
       "      <td>0.0</td>\n",
       "      <td>0.0</td>\n",
       "      <td>0.0</td>\n",
       "      <td>0.0</td>\n",
       "      <td>0.0</td>\n",
       "      <td>...</td>\n",
       "      <td>0.0</td>\n",
       "      <td>0.0</td>\n",
       "      <td>0.0</td>\n",
       "      <td>0.0</td>\n",
       "      <td>0.0</td>\n",
       "      <td>0.0</td>\n",
       "      <td>0.0</td>\n",
       "      <td>0.0</td>\n",
       "      <td>0.0</td>\n",
       "      <td>0.0</td>\n",
       "    </tr>\n",
       "    <tr>\n",
       "      <th>2</th>\n",
       "      <td>0.0</td>\n",
       "      <td>0.0</td>\n",
       "      <td>0.0</td>\n",
       "      <td>0.0</td>\n",
       "      <td>0.0</td>\n",
       "      <td>0.0</td>\n",
       "      <td>0.0</td>\n",
       "      <td>0.0</td>\n",
       "      <td>0.0</td>\n",
       "      <td>0.0</td>\n",
       "      <td>...</td>\n",
       "      <td>0.0</td>\n",
       "      <td>0.0</td>\n",
       "      <td>0.0</td>\n",
       "      <td>0.0</td>\n",
       "      <td>0.0</td>\n",
       "      <td>0.0</td>\n",
       "      <td>0.0</td>\n",
       "      <td>0.0</td>\n",
       "      <td>0.0</td>\n",
       "      <td>0.0</td>\n",
       "    </tr>\n",
       "    <tr>\n",
       "      <th>3</th>\n",
       "      <td>0.0</td>\n",
       "      <td>0.0</td>\n",
       "      <td>0.0</td>\n",
       "      <td>0.0</td>\n",
       "      <td>0.0</td>\n",
       "      <td>0.0</td>\n",
       "      <td>0.0</td>\n",
       "      <td>0.0</td>\n",
       "      <td>0.0</td>\n",
       "      <td>0.0</td>\n",
       "      <td>...</td>\n",
       "      <td>0.0</td>\n",
       "      <td>0.0</td>\n",
       "      <td>0.0</td>\n",
       "      <td>0.0</td>\n",
       "      <td>0.0</td>\n",
       "      <td>0.0</td>\n",
       "      <td>0.0</td>\n",
       "      <td>0.0</td>\n",
       "      <td>0.0</td>\n",
       "      <td>0.0</td>\n",
       "    </tr>\n",
       "    <tr>\n",
       "      <th>4</th>\n",
       "      <td>0.0</td>\n",
       "      <td>0.0</td>\n",
       "      <td>0.0</td>\n",
       "      <td>0.0</td>\n",
       "      <td>0.0</td>\n",
       "      <td>0.0</td>\n",
       "      <td>0.0</td>\n",
       "      <td>0.0</td>\n",
       "      <td>0.0</td>\n",
       "      <td>0.0</td>\n",
       "      <td>...</td>\n",
       "      <td>0.0</td>\n",
       "      <td>0.0</td>\n",
       "      <td>0.0</td>\n",
       "      <td>0.0</td>\n",
       "      <td>0.0</td>\n",
       "      <td>0.0</td>\n",
       "      <td>0.0</td>\n",
       "      <td>0.0</td>\n",
       "      <td>0.0</td>\n",
       "      <td>0.0</td>\n",
       "    </tr>\n",
       "  </tbody>\n",
       "</table>\n",
       "<p>5 rows × 3680 columns</p>\n",
       "</div>"
      ],
      "text/plain": [
       "   0     1     2     3     4     5     6     7     8     9     ...   3670  \\\n",
       "0   0.0   0.0   0.0   0.0   0.0   0.0   0.0   0.0   0.0   0.0  ...    0.0   \n",
       "1   0.0   0.0   0.0   0.0   0.0   0.0   0.0   0.0   0.0   0.0  ...    0.0   \n",
       "2   0.0   0.0   0.0   0.0   0.0   0.0   0.0   0.0   0.0   0.0  ...    0.0   \n",
       "3   0.0   0.0   0.0   0.0   0.0   0.0   0.0   0.0   0.0   0.0  ...    0.0   \n",
       "4   0.0   0.0   0.0   0.0   0.0   0.0   0.0   0.0   0.0   0.0  ...    0.0   \n",
       "\n",
       "   3671  3672  3673  3674  3675  3676  3677  3678  3679  \n",
       "0   0.0   0.0   0.0   0.0   0.0   0.0   0.0   0.0   0.0  \n",
       "1   0.0   0.0   0.0   0.0   0.0   0.0   0.0   0.0   0.0  \n",
       "2   0.0   0.0   0.0   0.0   0.0   0.0   0.0   0.0   0.0  \n",
       "3   0.0   0.0   0.0   0.0   0.0   0.0   0.0   0.0   0.0  \n",
       "4   0.0   0.0   0.0   0.0   0.0   0.0   0.0   0.0   0.0  \n",
       "\n",
       "[5 rows x 3680 columns]"
      ]
     },
     "execution_count": 9,
     "metadata": {},
     "output_type": "execute_result"
    }
   ],
   "source": [
    "df = pd.DataFrame(X)\n",
    "df.head()"
   ]
  },
  {
   "cell_type": "code",
   "execution_count": 10,
   "metadata": {
    "collapsed": false
   },
   "outputs": [
    {
     "data": {
      "text/html": [
       "<div>\n",
       "<table border=\"1\" class=\"dataframe\">\n",
       "  <thead>\n",
       "    <tr style=\"text-align: right;\">\n",
       "      <th></th>\n",
       "      <th>0</th>\n",
       "    </tr>\n",
       "  </thead>\n",
       "  <tbody>\n",
       "    <tr>\n",
       "      <th>0</th>\n",
       "      <td>1</td>\n",
       "    </tr>\n",
       "    <tr>\n",
       "      <th>1</th>\n",
       "      <td>1</td>\n",
       "    </tr>\n",
       "    <tr>\n",
       "      <th>2</th>\n",
       "      <td>1</td>\n",
       "    </tr>\n",
       "    <tr>\n",
       "      <th>3</th>\n",
       "      <td>1</td>\n",
       "    </tr>\n",
       "    <tr>\n",
       "      <th>4</th>\n",
       "      <td>0</td>\n",
       "    </tr>\n",
       "  </tbody>\n",
       "</table>\n",
       "</div>"
      ],
      "text/plain": [
       "   0\n",
       "0  1\n",
       "1  1\n",
       "2  1\n",
       "3  1\n",
       "4  0"
      ]
     },
     "execution_count": 10,
     "metadata": {},
     "output_type": "execute_result"
    }
   ],
   "source": [
    "df = pd.DataFrame(y)\n",
    "df.head()"
   ]
  },
  {
   "cell_type": "markdown",
   "metadata": {},
   "source": [
    "# 2. Logistic Regression with regularization\n",
    "\n",
    "## 2.1 Sigmoid function\n",
    "We firstly implement sigmoid function which is the activation function that converts continous input into values between 0 and 1. Then we can use this value as probability. Then if we apply with a threadhold, we can have a classification labels as used in later section.\n"
   ]
  },
  {
   "cell_type": "code",
   "execution_count": 11,
   "metadata": {
    "collapsed": false,
    "scrolled": true
   },
   "outputs": [
    {
     "data": {
      "text/plain": [
       "[<matplotlib.lines.Line2D at 0x116a6bb38>]"
      ]
     },
     "execution_count": 11,
     "metadata": {},
     "output_type": "execute_result"
    },
    {
     "data": {
      "image/png": "[encoded data removed]",
      "text/plain": [
       "<matplotlib.figure.Figure at 0x116a53400>"
      ]
     },
     "metadata": {},
     "output_type": "display_data"
    }
   ],
   "source": [
    "import matplotlib.pyplot as plt\n",
    "%matplotlib inline\n",
    "\n",
    "import numpy as np\n",
    "def sigmoid(x):\n",
    "    return 1.0 / (1.0 + np.exp(-x))\n",
    "\n",
    "nums = np.arange(-10, 10, step=0.1)\n",
    "fig, ax = plt.subplots(figsize=(6,4))\n",
    "ax.plot(nums, sigmoid(nums), 'r')"
   ]
  },
  {
   "cell_type": "markdown",
   "metadata": {},
   "source": [
    "## 2.2 Loss funtion with $\\lambda ||w||^2$ regularization\n",
    "Next, we implement the loss function for logistic regression with regularization. The loss function can be calculated by summing up relative entropy over the batch,\n",
    "\\begin{equation*}\n",
    "LR = \\sum_{n}\\{-yln\\sigma (w X)-(1-y)ln(1-\\sigma (wX))\\} + \\frac{\\lambda}{2}||w||^2 \\\n",
    "\\end{equation*}"
   ]
  },
  {
   "cell_type": "code",
   "execution_count": 12,
   "metadata": {
    "collapsed": false
   },
   "outputs": [],
   "source": [
    "from numpy import linalg as LA\n",
    "\n",
    "\n",
    "def cross_entropy(X, w, y, lmda):\n",
    "    total_loss = 0\n",
    "    n = X.shape[0]\n",
    "    predictions = np.zeros(y.shape)\n",
    "\n",
    "    for i in range(n):\n",
    "        yhat = sigmoid(np.dot(X[i,:], w))\n",
    "        if y[i] == 0.0:\n",
    "            loss = -(1 - y[i]) * np.log(1 -yhat) \n",
    "        elif y[i] == 1.0:\n",
    "            loss = - y[i] * np.log(yhat) \n",
    "        else:\n",
    "            loss = -(1 -y[i]) * np.log(1 - yhat) - y[i] * np.log(yhat) \n",
    "\n",
    "        total_loss += np.sum(loss) + (lmda/2) * np.sum(np.dot(w[1:].T, w[1:]))\n",
    "        predictions[i] = yhat\n",
    "\n",
    "    grad = np.dot(X.T, predictions - y)\n",
    "\n",
    "    return total_loss, grad"
   ]
  },
  {
   "cell_type": "markdown",
   "metadata": {},
   "source": [
    "## 2.3 Batch gradient descent with $\\lambda ||w||^2$ regularization\n",
    "batch gradient descent logistic regression with regularizer\n",
    "$\\lambda ||w||^2$ and learning rate $\\eta \\times t^{−\\alpha}$ where $\\eta$ is a constant, $t$ is the iteration number and $\\alpha = .9$.\n",
    "The update function with regularizer can be defined as\n",
    "\\begin{cases}\n",
    "w_{t+1} = w_{t} - \\nabla_{w_0}loss &, w_0 \\\\\n",
    "w_{t+1} = w_{t}(1-\\eta_t \\lambda) - \\eta_t \\sum_{n}(\\sigma(w_t X_n) - y_n)X_n) &, w_i  (i \\neq 0)\\\\\n",
    "\\end{cases}\n",
    "<br> We also handle the bias term by concatenating 1 on the first row of $X$, and get new updates seperately as shown above."
   ]
  },
  {
   "cell_type": "code",
   "execution_count": 13,
   "metadata": {
    "collapsed": false
   },
   "outputs": [],
   "source": [
    "\n",
    "def cal_error(X, y, w):\n",
    "    return y - sigmoid(np.matmul(X, w)) \n",
    "\n",
    "def gradient_decent(_X, y, eta=None, lam=None, num_iterations=1000):\n",
    "    # add one extra dimension for the bias term\n",
    "    X = np.concatenate([np.ones(shape=(_X.shape[0],1)), _X], axis=1)\n",
    "\n",
    "    # initialize weight vector\n",
    "#     w = 0.001 * np.ones(shape=(X.shape[1]))\n",
    "    w = 0.01 * np.random.rand(X.shape[1])\n",
    "    loss = None\n",
    "\n",
    "    for t in range(1, num_iterations+1):\n",
    "        # calculate cross entropy loss\n",
    "        loss, grad = cross_entropy(X, w, y, lam)\n",
    "\n",
    "        if eta is None:\n",
    "            learn_rate = 0.01\n",
    "        else:\n",
    "            alpha = 0.9\n",
    "            learn_rate = eta * (float(t) ** -alpha)\n",
    "\n",
    "        w1 = w[1:] * (1 - learn_rate * lam) - (learn_rate * grad[1:])\n",
    "        bias = w[0] - (learn_rate * grad[0])\n",
    "        w_new = np.concatenate([[bias], w1])\n",
    "        loss_new, _ = cross_entropy(X, w_new, y, lam)\n",
    "        loss_old, _ = cross_entropy(X, w, y, lam)\n",
    "        if abs(loss_old - loss_new) <= 1:\n",
    "            w = w_new\n",
    "            break\n",
    "        w = w_new\n",
    "\n",
    "        # print the current training  loss\n",
    "        if t % 50 == 0:\n",
    "            #print(\"step {} loss:\".format(t), loss)\n",
    "            pass\n",
    "        \n",
    "    return w, loss"
   ]
  },
  {
   "cell_type": "markdown",
   "metadata": {},
   "source": [
    "# 2.4 Regression model with $\\lambda w$ regularization\n",
    "Now we have a different regression loss\n",
    "\\begin{equation*}\n",
    "LR' = \\sum_{n}\\{-yln\\sigma (w X)-(1-y)ln(1-\\sigma (wX))\\} + \\lambda w\n",
    "\\end{equation*}\n",
    "And different updates,\n",
    "\\begin{cases}\n",
    "w_{t+1} = w_{t} - \\nabla_{w_0}loss &, w_0 \\\\\n",
    "w_{t+1} = w_{t} - \\eta_t \\sum_{n}((\\sigma(w_t X_n) - y_n)X_n) - \\vec{\\lambda}) &, w_i  (i \\neq 0)\\\\\n",
    "\\end{cases}\n",
    "<br> We also implement without regularized on bias term."
   ]
  },
  {
   "cell_type": "code",
   "execution_count": 17,
   "metadata": {
    "collapsed": true
   },
   "outputs": [],
   "source": [
    "def cross_entropy_1(X, w, y, lmda):\n",
    "    total_loss = 0\n",
    "    n = X.shape[0]\n",
    "    predictions = np.zeros(y.shape)\n",
    "\n",
    "    for i in range(n):\n",
    "        yhat = sigmoid(np.dot(X[i,:], w))\n",
    "        if y[i] == 0.0:\n",
    "            loss = -(1 - y[i]) * np.log(1 -yhat) \n",
    "        elif y[i] == 1.0:\n",
    "            loss = - y[i] * np.log(yhat) \n",
    "        else:\n",
    "            loss = -(1 -y[i]) * np.log(1 - yhat) - y[i] * np.log(yhat) \n",
    "\n",
    "        total_loss += np.sum(loss) + lmda * np.sum(w[1:])\n",
    "        predictions[i] = yhat\n",
    "\n",
    "    grad = np.dot(X.T, predictions - y)\n",
    "\n",
    "    return total_loss, grad\n",
    "\n",
    "def gradient_decent_1(_X, y, eta=None, lam=None, num_iterations=1000):\n",
    "    # add one extra dimension for the bias term\n",
    "    X = np.concatenate([np.ones(shape=(_X.shape[0],1)), _X], axis=1)\n",
    "\n",
    "    # initialize weight vector\n",
    "#     w = 0.001 * np.ones(shape=(X.shape[1]))\n",
    "    w = 0.01 * np.random.rand(X.shape[1])\n",
    "    loss = None\n",
    "\n",
    "    for t in range(1, num_iterations+1):\n",
    "        # calculate cross entropy loss\n",
    "        loss, grad = cross_entropy_1(X, w, y, lam)\n",
    "\n",
    "        if eta is None:\n",
    "            learn_rate = 0.01\n",
    "        else:\n",
    "            alpha = 0.9\n",
    "            learn_rate = eta * (float(t) ** -alpha)\n",
    "\n",
    "        w1 = w[1:] - learn_rate * (grad[1:] - lam * (np.ones(w.shape - 1)[1:]))\n",
    "        bias = w[0] - (learn_rate * grad[0])\n",
    "        w_new = np.concatenate([[bias], w1])\n",
    "        loss_new, _ = cross_entropy_1(X, w_new, y, lam)\n",
    "        loss_old, _ = cross_entropy_1(X, w, y, lam)\n",
    "#         if abs(loss_old - loss_new) <= 1:\n",
    "#             w = w_new\n",
    "#             break\n",
    "        w = w_new\n",
    "\n",
    "        # print the current training  loss\n",
    "        if t % 50 == 0:\n",
    "            #print(\"step {} loss:\".format(t), loss)\n",
    "            pass\n",
    "        \n",
    "    return w, loss   "
   ]
  },
  {
   "cell_type": "markdown",
   "metadata": {},
   "source": [
    "# 3. 10-fold crossvalidation\n",
    "Choose λ with 10-fold cross validation based on the classification accuracy. Report your results as in solutions to Hw 1: cross validation curve (with error bars if you can) plus table of results with best choices/results bolded."
   ]
  },
  {
   "cell_type": "code",
   "execution_count": 22,
   "metadata": {
    "collapsed": false,
    "scrolled": false
   },
   "outputs": [],
   "source": [
    "from sklearn import model_selection\n",
    "\n",
    "def predict(_X, w):\n",
    "    # add dummy bias term\n",
    "    X = np.concatenate([np.ones(shape=(_X.shape[0],1)), _X], axis=1)\n",
    "\n",
    "    n = X.shape[0]\n",
    "    predictions = np.zeros(X.shape[0])\n",
    "\n",
    "    for i in range(n):\n",
    "        yhat = sigmoid(np.dot(X[i,:], w))\n",
    "        predictions[i] = 1 if yhat > 0.5 else 0\n",
    "\n",
    "    return predictions\n",
    "\n",
    "def predict_test(_X, w):\n",
    "    # add dummy bias term\n",
    "    X = np.concatenate([np.ones(shape=(_X.shape[0],1)), _X], axis=1)\n",
    "\n",
    "    n = X.shape[0]\n",
    "    predictions = np.zeros(X.shape[0])\n",
    "\n",
    "    for i in range(n):\n",
    "        predictions[i] = sigmoid(np.dot(X[i,:], w))\n",
    "\n",
    "    return predictions\n",
    "\n",
    "\n",
    "\n",
    "def get_accuracy(preds, target):      \n",
    "    accuracy = (preds == target).sum().astype(float) / len(preds)\n",
    "    return accuracy\n",
    "\n",
    "\n",
    "def cross_validation(lmda, X, y, iteration, eta, l2=True):\n",
    "    errors_train = []\n",
    "    errors = []\n",
    "\n",
    "    kf = model_selection.KFold(n_splits=2, shuffle=True, random_state=None)\n",
    "    for train_idx, val_idx in kf.split(X):\n",
    "        X_train, X_val = X[train_idx], X[val_idx]\n",
    "        y_train, y_val = y[train_idx], y[val_idx]\n",
    "        w, cost = gradient_decent(X_train, y_train, eta, lmda, iteration)\n",
    "        # Accuracy on validation\n",
    "        predictions = predict(X_val, w)\n",
    "        acc = get_accuracy(predictions, y_val)\n",
    "        errors.append(acc) \n",
    "        # Accuracy on training\n",
    "        pred_train = predict(X_train, w)\n",
    "        acc_train = get_accuracy(pred_train, y_train)\n",
    "        errors_train.append(acc_train)\n",
    "    avg_err = np.sum(errors)/len(errors)\n",
    "    avg_err_train = np.sum(errors_train)/len(errors_train)\n",
    "    return avg_err, errors, avg_err_train"
   ]
  },
  {
   "cell_type": "markdown",
   "metadata": {},
   "source": [
    "# 4. Test model"
   ]
  },
  {
   "cell_type": "markdown",
   "metadata": {},
   "source": [
    "# 4.1 Accuracy on different models with $\\lambda w^2$ regularization\n",
    "We manually set iteration as 50, although from our observation, some optimal weights are not achieved. The larger the iteration is , the better the results are. But it takes such a long time, so we take a relative small number of iteration with a relative larger learning rate $\\eta$."
   ]
  },
  {
   "cell_type": "code",
   "execution_count": 19,
   "metadata": {
    "collapsed": false,
    "scrolled": true
   },
   "outputs": [
    {
     "name": "stderr",
     "output_type": "stream",
     "text": [
      "/Users/Daisy/anaconda/lib/python3.6/site-packages/ipykernel/__main__.py:12: RuntimeWarning: divide by zero encountered in log\n"
     ]
    },
    {
     "data": {
      "image/png": "[encoded data removed]",
      "text/plain": [
       "<matplotlib.figure.Figure at 0x12c56bd68>"
      ]
     },
     "metadata": {},
     "output_type": "display_data"
    }
   ],
   "source": [
    "errs = []\n",
    "eta = 0.1\n",
    "iteration = 50\n",
    "accuracies = []\n",
    "accuracies_train = []\n",
    "lmds = np.logspace(-3, 0, 10)\n",
    "for idx, ld in enumerate(lmds):\n",
    "    acc, err, acc_train = cross_validation(ld, X, y, iteration, eta)\n",
    "    errs.append(err)\n",
    "    accuracies.append(acc)\n",
    "    accuracies_train.append(acc_train)\n",
    "\n",
    "# Plot the results in a table\n",
    "fig, ax = plt.subplots()\n",
    "# col_labels = ['%f' % l for l in lmds]\n",
    "row_label = ['$\\lambda$','accuracy on validation', 'accuracy on training']\n",
    "table = ax.table(cellText=[lmds, accuracies, accuracies_train],\n",
    "          rowLabels=row_label,\n",
    "          loc='center')\n",
    "best_lmd = table.get_celld()[(0,np.argmax(accuracies))]\n",
    "best_lmd.set_color('r')\n",
    "ax.axis('off')\n",
    "table.set_fontsize(30)\n",
    "table.scale(5,5)  "
   ]
  },
  {
   "cell_type": "markdown",
   "metadata": {},
   "source": [
    "# 4.2 Plot cross validation curve with error bar"
   ]
  },
  {
   "cell_type": "code",
   "execution_count": 20,
   "metadata": {
    "collapsed": false
   },
   "outputs": [
    {
     "data": {
      "text/plain": [
       "<matplotlib.text.Text at 0x12c878208>"
      ]
     },
     "execution_count": 20,
     "metadata": {},
     "output_type": "execute_result"
    },
    {
     "data": {
      "image/png": "[encoded data removed]",
      "text/plain": [
       "<matplotlib.figure.Figure at 0x12c5ef860>"
      ]
     },
     "metadata": {},
     "output_type": "display_data"
    }
   ],
   "source": [
    "errs_min = np.amin(errs, axis=1)\n",
    "errs_max = np.amax(errs, axis=1)\n",
    "y_err = []\n",
    "for i in range(len(accuracies)):\n",
    "    y_err.append((errs_max[i] - accuracies[i], accuracies[i] - errs_min[i]))\n",
    "y_err = np.array(y_err).T\n",
    "fig, ax = plt.subplots()\n",
    "# ax.plot(lmds, accuracies)\n",
    "ax.errorbar(lmds, accuracies, y_err)\n",
    "ax.plot(lmds, accuracies_train)\n",
    "ax.set_xscale('log')\n",
    "plt.ylabel('accuracy')\n",
    "plt.xlabel('ln$\\lambda$')\n",
    "plt.legend(['training', 'validation'])\n",
    "plt.title('cross validation curve')"
   ]
  },
  {
   "cell_type": "markdown",
   "metadata": {},
   "source": [
    "# 4.3 Prediction on test data\n",
    "Get the best lambda value and retrain on all training data.\n",
    "<br> Output result"
   ]
  },
  {
   "cell_type": "code",
   "execution_count": 26,
   "metadata": {
    "collapsed": false
   },
   "outputs": [
    {
     "name": "stderr",
     "output_type": "stream",
     "text": [
      "/Users/Daisy/anaconda/lib/python3.6/site-packages/ipykernel/__main__.py:12: RuntimeWarning: divide by zero encountered in log\n"
     ]
    },
    {
     "name": "stdout",
     "output_type": "stream",
     "text": [
      "in test.csv data: \n",
      "X matrix shape is (1701, 3680)\n",
      "y vector shape is (0,)\n",
      "HillaryClinton's length is 0 and realDonaldTrump's length is 0\n"
     ]
    },
    {
     "name": "stderr",
     "output_type": "stream",
     "text": [
      "/Users/Daisy/anaconda/lib/python3.6/site-packages/sklearn/feature_extraction/text.py:1037: RuntimeWarning: divide by zero encountered in true_divide\n",
      "  idf = np.log(float(n_samples) / df) + 1.0\n"
     ]
    }
   ],
   "source": [
    "from collections import OrderedDict\n",
    "\n",
    "best_lmda = lmds[np.argmax(accuracies)]\n",
    "best_w,_ = gradient_decent(X, y, eta, best_lmda, iteration)\n",
    "\n",
    "print('in test.csv data: ')\n",
    "X_test, y_test, __ = process_text('./test.csv', vectorizer)\n",
    "\n",
    "# evaluate our model on test data\n",
    "predictions_HC = predict_test(X_test, best_w)\n",
    "predictions_DT = np.ones(len(predictions_HC)) - predictions_HC\n",
    "\n",
    "# write result\n",
    "data = OrderedDict()\n",
    "data['id'] = [i for i in range(0, len(predictions))]\n",
    "data['realDonaldTrump'] = predictions_DT\n",
    "data['HillaryClinton'] = predictions_HC\n",
    "df = pd.DataFrame(data=data)\n",
    "df.to_csv('./LG_result.csv', index=False)"
   ]
  }
 ],
 "metadata": {
  "kernelspec": {
   "display_name": "Python 3",
   "language": "python",
   "name": "python3"
  },
  "language_info": {
   "codemirror_mode": {
    "name": "ipython",
    "version": 3
   },
   "file_extension": ".py",
   "mimetype": "text/x-python",
   "name": "python",
   "nbconvert_exporter": "python",
   "pygments_lexer": "ipython3",
   "version": "3.6.0"
  }
 },
 "nbformat": 4,
 "nbformat_minor": 2
}
